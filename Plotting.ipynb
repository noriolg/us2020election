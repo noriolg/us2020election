{
 "cells": [
  {
   "cell_type": "markdown",
   "metadata": {},
   "source": [
    "# Plotting election results"
   ]
  },
  {
   "cell_type": "markdown",
   "metadata": {},
   "source": [
    "Data regarding election results are obtained from [this](https://www.bbc.com/news/election/us2020/results) table (BBC news)\n",
    "\n",
    "Data is copied and tasted into txt file which is processed and turned into .csv\n",
    "\n",
    "Inputs for this code are:\n",
    "* .csv with election results from specified source\n",
    "*  File `bbc_state_mappings.csv` to map names from source to state abbreviations"
   ]
  },
  {
   "cell_type": "code",
   "execution_count": 95,
   "metadata": {},
   "outputs": [],
   "source": [
    "using DataFrames             \n",
    "using StatsPlots             \n",
    "using Statistics             \n",
    "using CSV  "
   ]
  },
  {
   "cell_type": "markdown",
   "metadata": {},
   "source": [
    "State mappings are loaded"
   ]
  },
  {
   "cell_type": "code",
   "execution_count": 96,
   "metadata": {},
   "outputs": [],
   "source": [
    "mappings = CSV.read(\"./mappings/bbc_state_mappings.csv\");"
   ]
  },
  {
   "cell_type": "markdown",
   "metadata": {},
   "source": [
    "Data from file is read"
   ]
  },
  {
   "cell_type": "code",
   "execution_count": 97,
   "metadata": {},
   "outputs": [],
   "source": [
    "data = CSV.read(\"./data/bbcnov11.csv\"); # choose most recent dataset"
   ]
  },
  {
   "cell_type": "markdown",
   "metadata": {},
   "source": [
    "Both datasets are observed. They will be merged on `State`. This is the name provided by the BBC dashboard to the different states. It is easier to work with state abreviations, that is why the mapping is done."
   ]
  },
  {
   "cell_type": "code",
   "execution_count": 98,
   "metadata": {},
   "outputs": [
    {
     "data": {
      "text/html": [
       "<table class=\"data-frame\"><thead><tr><th></th><th>State</th><th>MatchedAbbreviation</th><th>FullName</th><th>ElectoralVotes</th></tr><tr><th></th><th>String</th><th>String</th><th>String</th><th>Int64</th></tr></thead><tbody><p>6 rows × 4 columns</p><tr><th>1</th><td>Ala</td><td>AL</td><td>Alabama</td><td>9</td></tr><tr><th>2</th><td>Alaska</td><td>AK</td><td>Alaska</td><td>3</td></tr><tr><th>3</th><td>Ariz</td><td>AZ</td><td>Arizona</td><td>11</td></tr><tr><th>4</th><td>Ark</td><td>AR</td><td>Arkansas</td><td>6</td></tr><tr><th>5</th><td>Calif</td><td>CA</td><td>California</td><td>55</td></tr><tr><th>6</th><td>Colo</td><td>CO</td><td>Colorado</td><td>9</td></tr></tbody></table>"
      ],
      "text/latex": [
       "\\begin{tabular}{r|cccc}\n",
       "\t& State & MatchedAbbreviation & FullName & ElectoralVotes\\\\\n",
       "\t\\hline\n",
       "\t& String & String & String & Int64\\\\\n",
       "\t\\hline\n",
       "\t1 & Ala & AL & Alabama & 9 \\\\\n",
       "\t2 & Alaska & AK & Alaska & 3 \\\\\n",
       "\t3 & Ariz & AZ & Arizona & 11 \\\\\n",
       "\t4 & Ark & AR & Arkansas & 6 \\\\\n",
       "\t5 & Calif & CA & California & 55 \\\\\n",
       "\t6 & Colo & CO & Colorado & 9 \\\\\n",
       "\\end{tabular}\n"
      ],
      "text/plain": [
       "6×4 DataFrame\n",
       "│ Row │ State  │ MatchedAbbreviation │ FullName   │ ElectoralVotes │\n",
       "│     │ \u001b[90mString\u001b[39m │ \u001b[90mString\u001b[39m              │ \u001b[90mString\u001b[39m     │ \u001b[90mInt64\u001b[39m          │\n",
       "├─────┼────────┼─────────────────────┼────────────┼────────────────┤\n",
       "│ 1   │ Ala    │ AL                  │ Alabama    │ 9              │\n",
       "│ 2   │ Alaska │ AK                  │ Alaska     │ 3              │\n",
       "│ 3   │ Ariz   │ AZ                  │ Arizona    │ 11             │\n",
       "│ 4   │ Ark    │ AR                  │ Arkansas   │ 6              │\n",
       "│ 5   │ Calif  │ CA                  │ California │ 55             │\n",
       "│ 6   │ Colo   │ CO                  │ Colorado   │ 9              │"
      ]
     },
     "execution_count": 98,
     "metadata": {},
     "output_type": "execute_result"
    }
   ],
   "source": [
    "head(mappings)"
   ]
  },
  {
   "cell_type": "code",
   "execution_count": 99,
   "metadata": {},
   "outputs": [
    {
     "data": {
      "text/html": [
       "<table class=\"data-frame\"><thead><tr><th></th><th>State</th><th>Dem</th><th>Rep</th><th>PerCounted</th></tr><tr><th></th><th>String</th><th>Int64</th><th>Int64</th><th>Int64</th></tr></thead><tbody><p>6 rows × 4 columns</p><tr><th>1</th><td>Calif</td><td>65</td><td>33</td><td>89</td></tr><tr><th>2</th><td>N.Y</td><td>56</td><td>43</td><td>84</td></tr><tr><th>3</th><td>Ill</td><td>55</td><td>43</td><td>90</td></tr><tr><th>4</th><td>Va</td><td>54</td><td>44</td><td>99</td></tr><tr><th>5</th><td>Wash</td><td>59</td><td>39</td><td>96</td></tr><tr><th>6</th><td>N.J</td><td>58</td><td>40</td><td>80</td></tr></tbody></table>"
      ],
      "text/latex": [
       "\\begin{tabular}{r|cccc}\n",
       "\t& State & Dem & Rep & PerCounted\\\\\n",
       "\t\\hline\n",
       "\t& String & Int64 & Int64 & Int64\\\\\n",
       "\t\\hline\n",
       "\t1 & Calif & 65 & 33 & 89 \\\\\n",
       "\t2 & N.Y & 56 & 43 & 84 \\\\\n",
       "\t3 & Ill & 55 & 43 & 90 \\\\\n",
       "\t4 & Va & 54 & 44 & 99 \\\\\n",
       "\t5 & Wash & 59 & 39 & 96 \\\\\n",
       "\t6 & N.J & 58 & 40 & 80 \\\\\n",
       "\\end{tabular}\n"
      ],
      "text/plain": [
       "6×4 DataFrame\n",
       "│ Row │ State  │ Dem   │ Rep   │ PerCounted │\n",
       "│     │ \u001b[90mString\u001b[39m │ \u001b[90mInt64\u001b[39m │ \u001b[90mInt64\u001b[39m │ \u001b[90mInt64\u001b[39m      │\n",
       "├─────┼────────┼───────┼───────┼────────────┤\n",
       "│ 1   │ Calif  │ 65    │ 33    │ 89         │\n",
       "│ 2   │ N.Y    │ 56    │ 43    │ 84         │\n",
       "│ 3   │ Ill    │ 55    │ 43    │ 90         │\n",
       "│ 4   │ Va     │ 54    │ 44    │ 99         │\n",
       "│ 5   │ Wash   │ 59    │ 39    │ 96         │\n",
       "│ 6   │ N.J    │ 58    │ 40    │ 80         │"
      ]
     },
     "execution_count": 99,
     "metadata": {},
     "output_type": "execute_result"
    }
   ],
   "source": [
    "head(data)"
   ]
  },
  {
   "cell_type": "markdown",
   "metadata": {},
   "source": [
    "Both datasets are merged"
   ]
  },
  {
   "cell_type": "code",
   "execution_count": 100,
   "metadata": {},
   "outputs": [
    {
     "data": {
      "text/html": [
       "<table class=\"data-frame\"><thead><tr><th></th><th>State</th><th>Dem</th><th>Rep</th><th>PerCounted</th><th>MatchedAbbreviation</th><th>FullName</th><th>ElectoralVotes</th></tr><tr><th></th><th>String</th><th>Int64</th><th>Int64</th><th>Int64</th><th>String</th><th>String</th><th>Int64</th></tr></thead><tbody><p>6 rows × 7 columns</p><tr><th>1</th><td>Calif</td><td>65</td><td>33</td><td>89</td><td>CA</td><td>California</td><td>55</td></tr><tr><th>2</th><td>N.Y</td><td>56</td><td>43</td><td>84</td><td>NY</td><td>New York</td><td>29</td></tr><tr><th>3</th><td>Ill</td><td>55</td><td>43</td><td>90</td><td>IL</td><td>Illinois</td><td>20</td></tr><tr><th>4</th><td>Va</td><td>54</td><td>44</td><td>99</td><td>VA</td><td>Virginia</td><td>13</td></tr><tr><th>5</th><td>Wash</td><td>59</td><td>39</td><td>96</td><td>WA</td><td>Washington</td><td>12</td></tr><tr><th>6</th><td>N.J</td><td>58</td><td>40</td><td>80</td><td>NJ</td><td>New Jersey</td><td>14</td></tr></tbody></table>"
      ],
      "text/latex": [
       "\\begin{tabular}{r|ccccccc}\n",
       "\t& State & Dem & Rep & PerCounted & MatchedAbbreviation & FullName & ElectoralVotes\\\\\n",
       "\t\\hline\n",
       "\t& String & Int64 & Int64 & Int64 & String & String & Int64\\\\\n",
       "\t\\hline\n",
       "\t1 & Calif & 65 & 33 & 89 & CA & California & 55 \\\\\n",
       "\t2 & N.Y & 56 & 43 & 84 & NY & New York & 29 \\\\\n",
       "\t3 & Ill & 55 & 43 & 90 & IL & Illinois & 20 \\\\\n",
       "\t4 & Va & 54 & 44 & 99 & VA & Virginia & 13 \\\\\n",
       "\t5 & Wash & 59 & 39 & 96 & WA & Washington & 12 \\\\\n",
       "\t6 & N.J & 58 & 40 & 80 & NJ & New Jersey & 14 \\\\\n",
       "\\end{tabular}\n"
      ],
      "text/plain": [
       "6×7 DataFrame. Omitted printing of 1 columns\n",
       "│ Row │ State  │ Dem   │ Rep   │ PerCounted │ MatchedAbbreviation │ FullName   │\n",
       "│     │ \u001b[90mString\u001b[39m │ \u001b[90mInt64\u001b[39m │ \u001b[90mInt64\u001b[39m │ \u001b[90mInt64\u001b[39m      │ \u001b[90mString\u001b[39m              │ \u001b[90mString\u001b[39m     │\n",
       "├─────┼────────┼───────┼───────┼────────────┼─────────────────────┼────────────┤\n",
       "│ 1   │ Calif  │ 65    │ 33    │ 89         │ CA                  │ California │\n",
       "│ 2   │ N.Y    │ 56    │ 43    │ 84         │ NY                  │ New York   │\n",
       "│ 3   │ Ill    │ 55    │ 43    │ 90         │ IL                  │ Illinois   │\n",
       "│ 4   │ Va     │ 54    │ 44    │ 99         │ VA                  │ Virginia   │\n",
       "│ 5   │ Wash   │ 59    │ 39    │ 96         │ WA                  │ Washington │\n",
       "│ 6   │ N.J    │ 58    │ 40    │ 80         │ NJ                  │ New Jersey │"
      ]
     },
     "execution_count": 100,
     "metadata": {},
     "output_type": "execute_result"
    }
   ],
   "source": [
    "data_merged = join(data, mappings, on = :State);\n",
    "head(data_merged)"
   ]
  },
  {
   "cell_type": "markdown",
   "metadata": {},
   "source": [
    "`State` column to be eliminated and `Matched Abbreviation` column will be remaned as `State`"
   ]
  },
  {
   "cell_type": "code",
   "execution_count": 101,
   "metadata": {},
   "outputs": [],
   "source": [
    "data_no_state_name = select!(data_merged, Not(:State));"
   ]
  },
  {
   "cell_type": "markdown",
   "metadata": {},
   "source": [
    "Final dataframe will be created with necessary columns and in clean order."
   ]
  },
  {
   "cell_type": "code",
   "execution_count": 105,
   "metadata": {},
   "outputs": [],
   "source": [
    "column_data = hcat(data_no_state_name[:, :MatchedAbbreviation], data_no_state_name[:, :FullName], data_no_state_name[:, :Dem], data_no_state_name[:, :Rep],data_no_state_name[:, :ElectoralVotes], data_no_state_name[:, :PerCounted]);"
   ]
  },
  {
   "cell_type": "code",
   "execution_count": 106,
   "metadata": {},
   "outputs": [],
   "source": [
    "column_names = [\"state\", \"state_name\", \"percentage_democrat\", \"percentage_republican\", \"electoral_votes\", \"percentage_votes_counted\"];"
   ]
  },
  {
   "cell_type": "markdown",
   "metadata": {},
   "source": [
    "Clean dataset is obtained"
   ]
  },
  {
   "cell_type": "code",
   "execution_count": 108,
   "metadata": {},
   "outputs": [
    {
     "data": {
      "text/html": [
       "<table class=\"data-frame\"><thead><tr><th></th><th>state</th><th>state_name</th><th>percentage_democrat</th><th>percentage_republican</th><th>electoral_votes</th></tr><tr><th></th><th>Any</th><th>Any</th><th>Any</th><th>Any</th><th>Any</th></tr></thead><tbody><p>6 rows × 6 columns (omitted printing of 1 columns)</p><tr><th>1</th><td>CA</td><td>California</td><td>65</td><td>33</td><td>55</td></tr><tr><th>2</th><td>NY</td><td>New York</td><td>56</td><td>43</td><td>29</td></tr><tr><th>3</th><td>IL</td><td>Illinois</td><td>55</td><td>43</td><td>20</td></tr><tr><th>4</th><td>VA</td><td>Virginia</td><td>54</td><td>44</td><td>13</td></tr><tr><th>5</th><td>WA</td><td>Washington</td><td>59</td><td>39</td><td>12</td></tr><tr><th>6</th><td>NJ</td><td>New Jersey</td><td>58</td><td>40</td><td>14</td></tr></tbody></table>"
      ],
      "text/latex": [
       "\\begin{tabular}{r|cccccc}\n",
       "\t& state & state\\_name & percentage\\_democrat & percentage\\_republican & electoral\\_votes & \\\\\n",
       "\t\\hline\n",
       "\t& Any & Any & Any & Any & Any & \\\\\n",
       "\t\\hline\n",
       "\t1 & CA & California & 65 & 33 & 55 & $\\dots$ \\\\\n",
       "\t2 & NY & New York & 56 & 43 & 29 & $\\dots$ \\\\\n",
       "\t3 & IL & Illinois & 55 & 43 & 20 & $\\dots$ \\\\\n",
       "\t4 & VA & Virginia & 54 & 44 & 13 & $\\dots$ \\\\\n",
       "\t5 & WA & Washington & 59 & 39 & 12 & $\\dots$ \\\\\n",
       "\t6 & NJ & New Jersey & 58 & 40 & 14 & $\\dots$ \\\\\n",
       "\\end{tabular}\n"
      ],
      "text/plain": [
       "6×6 DataFrame. Omitted printing of 2 columns\n",
       "│ Row │ state │ state_name │ percentage_democrat │ percentage_republican │\n",
       "│     │ \u001b[90mAny\u001b[39m   │ \u001b[90mAny\u001b[39m        │ \u001b[90mAny\u001b[39m                 │ \u001b[90mAny\u001b[39m                   │\n",
       "├─────┼───────┼────────────┼─────────────────────┼───────────────────────┤\n",
       "│ 1   │ CA    │ California │ 65                  │ 33                    │\n",
       "│ 2   │ NY    │ New York   │ 56                  │ 43                    │\n",
       "│ 3   │ IL    │ Illinois   │ 55                  │ 43                    │\n",
       "│ 4   │ VA    │ Virginia   │ 54                  │ 44                    │\n",
       "│ 5   │ WA    │ Washington │ 59                  │ 39                    │\n",
       "│ 6   │ NJ    │ New Jersey │ 58                  │ 40                    │"
      ]
     },
     "execution_count": 108,
     "metadata": {},
     "output_type": "execute_result"
    }
   ],
   "source": [
    "df = DataFrame(column_data, column_names);\n",
    "head(df)"
   ]
  },
  {
   "cell_type": "markdown",
   "metadata": {},
   "source": [
    "### New columns are obtained for easier interpretation"
   ]
  },
  {
   "cell_type": "markdown",
   "metadata": {},
   "source": [
    "`percentage_difference` indicates Democrat-Republican percentages"
   ]
  },
  {
   "cell_type": "code",
   "execution_count": 109,
   "metadata": {},
   "outputs": [],
   "source": [
    "df[:, [:percentage_democrat, :percentage_republican]] = df[:, [:percentage_democrat, :percentage_republican]]./100; # Dividing by 100 to get percentages"
   ]
  },
  {
   "cell_type": "code",
   "execution_count": 110,
   "metadata": {},
   "outputs": [],
   "source": [
    "df[:, :percentage_difference] = df[:, :percentage_democrat] - df[:, :percentage_republican];"
   ]
  },
  {
   "cell_type": "code",
   "execution_count": 115,
   "metadata": {},
   "outputs": [
    {
     "data": {
      "text/html": [
       "<table class=\"data-frame\"><thead><tr><th></th><th>state_name</th><th>percentage_democrat</th><th>percentage_republican</th><th>percentage_difference</th><th>electoral_votes</th></tr><tr><th></th><th>Any</th><th>Any</th><th>Any</th><th>Float64</th><th>Any</th></tr></thead><tbody><p>6 rows × 5 columns</p><tr><th>1</th><td>California</td><td>0.65</td><td>0.33</td><td>0.32</td><td>55</td></tr><tr><th>2</th><td>New York</td><td>0.56</td><td>0.43</td><td>0.13</td><td>29</td></tr><tr><th>3</th><td>Illinois</td><td>0.55</td><td>0.43</td><td>0.12</td><td>20</td></tr><tr><th>4</th><td>Virginia</td><td>0.54</td><td>0.44</td><td>0.1</td><td>13</td></tr><tr><th>5</th><td>Washington</td><td>0.59</td><td>0.39</td><td>0.2</td><td>12</td></tr><tr><th>6</th><td>New Jersey</td><td>0.58</td><td>0.4</td><td>0.18</td><td>14</td></tr></tbody></table>"
      ],
      "text/latex": [
       "\\begin{tabular}{r|ccccc}\n",
       "\t& state\\_name & percentage\\_democrat & percentage\\_republican & percentage\\_difference & electoral\\_votes\\\\\n",
       "\t\\hline\n",
       "\t& Any & Any & Any & Float64 & Any\\\\\n",
       "\t\\hline\n",
       "\t1 & California & 0.65 & 0.33 & 0.32 & 55 \\\\\n",
       "\t2 & New York & 0.56 & 0.43 & 0.13 & 29 \\\\\n",
       "\t3 & Illinois & 0.55 & 0.43 & 0.12 & 20 \\\\\n",
       "\t4 & Virginia & 0.54 & 0.44 & 0.1 & 13 \\\\\n",
       "\t5 & Washington & 0.59 & 0.39 & 0.2 & 12 \\\\\n",
       "\t6 & New Jersey & 0.58 & 0.4 & 0.18 & 14 \\\\\n",
       "\\end{tabular}\n"
      ],
      "text/plain": [
       "6×5 DataFrame. Omitted printing of 2 columns\n",
       "│ Row │ state_name │ percentage_democrat │ percentage_republican │\n",
       "│     │ \u001b[90mAny\u001b[39m        │ \u001b[90mAny\u001b[39m                 │ \u001b[90mAny\u001b[39m                   │\n",
       "├─────┼────────────┼─────────────────────┼───────────────────────┤\n",
       "│ 1   │ California │ 0.65                │ 0.33                  │\n",
       "│ 2   │ New York   │ 0.56                │ 0.43                  │\n",
       "│ 3   │ Illinois   │ 0.55                │ 0.43                  │\n",
       "│ 4   │ Virginia   │ 0.54                │ 0.44                  │\n",
       "│ 5   │ Washington │ 0.59                │ 0.39                  │\n",
       "│ 6   │ New Jersey │ 0.58                │ 0.4                   │"
      ]
     },
     "execution_count": 115,
     "metadata": {},
     "output_type": "execute_result"
    }
   ],
   "source": [
    "head(df[:, [:state_name,:percentage_democrat,:percentage_republican, :percentage_difference, :electoral_votes]])\n"
   ]
  },
  {
   "cell_type": "markdown",
   "metadata": {},
   "source": [
    "`state_winner` indicates D or R depending on winning party for state"
   ]
  },
  {
   "cell_type": "code",
   "execution_count": 113,
   "metadata": {},
   "outputs": [],
   "source": [
    "df[:, :state_winner] = \"D\";"
   ]
  },
  {
   "cell_type": "code",
   "execution_count": 114,
   "metadata": {},
   "outputs": [],
   "source": [
    "df[ df[:,:percentage_republican].>df[:,:percentage_democrat], :state_winner] = \"R\";"
   ]
  },
  {
   "cell_type": "markdown",
   "metadata": {},
   "source": [
    "### Plot is created"
   ]
  },
  {
   "cell_type": "code",
   "execution_count": 116,
   "metadata": {},
   "outputs": [
    {
     "data": {
      "image/svg+xml": [
       "<?xml version=\"1.0\" encoding=\"utf-8\"?>\n",
       "<svg xmlns=\"http://www.w3.org/2000/svg\" xmlns:xlink=\"http://www.w3.org/1999/xlink\" width=\"600\" height=\"400\" viewBox=\"0 0 2400 1600\">\n",
       "<defs>\n",
       "  <clipPath id=\"clip650\">\n",
       "    <rect x=\"0\" y=\"0\" width=\"2400\" height=\"1600\"/>\n",
       "  </clipPath>\n",
       "</defs>\n",
       "<path clip-path=\"url(#clip650)\" d=\"\n",
       "M0 1600 L2400 1600 L2400 0 L0 0  Z\n",
       "  \" fill=\"#ffffff\" fill-rule=\"evenodd\" fill-opacity=\"1\"/>\n",
       "<defs>\n",
       "  <clipPath id=\"clip651\">\n",
       "    <rect x=\"480\" y=\"0\" width=\"1681\" height=\"1600\"/>\n",
       "  </clipPath>\n",
       "</defs>\n",
       "<path clip-path=\"url(#clip650)\" d=\"\n",
       "M171.552 1423.18 L2352.76 1423.18 L2352.76 47.2441 L171.552 47.2441  Z\n",
       "  \" fill=\"#ffffff\" fill-rule=\"evenodd\" fill-opacity=\"1\"/>\n",
       "<defs>\n",
       "  <clipPath id=\"clip652\">\n",
       "    <rect x=\"171\" y=\"47\" width=\"2182\" height=\"1377\"/>\n",
       "  </clipPath>\n",
       "</defs>\n",
       "<polyline clip-path=\"url(#clip652)\" style=\"stroke:#000000; stroke-width:2; stroke-opacity:0.1; fill:none\" points=\"\n",
       "  291.522,1423.18 291.522,47.2441 \n",
       "  \"/>\n",
       "<polyline clip-path=\"url(#clip652)\" style=\"stroke:#000000; stroke-width:2; stroke-opacity:0.1; fill:none\" points=\"\n",
       "  615.066,1423.18 615.066,47.2441 \n",
       "  \"/>\n",
       "<polyline clip-path=\"url(#clip652)\" style=\"stroke:#000000; stroke-width:2; stroke-opacity:0.1; fill:none\" points=\"\n",
       "  938.61,1423.18 938.61,47.2441 \n",
       "  \"/>\n",
       "<polyline clip-path=\"url(#clip652)\" style=\"stroke:#000000; stroke-width:2; stroke-opacity:0.1; fill:none\" points=\"\n",
       "  1262.15,1423.18 1262.15,47.2441 \n",
       "  \"/>\n",
       "<polyline clip-path=\"url(#clip652)\" style=\"stroke:#000000; stroke-width:2; stroke-opacity:0.1; fill:none\" points=\"\n",
       "  1585.7,1423.18 1585.7,47.2441 \n",
       "  \"/>\n",
       "<polyline clip-path=\"url(#clip652)\" style=\"stroke:#000000; stroke-width:2; stroke-opacity:0.1; fill:none\" points=\"\n",
       "  1909.24,1423.18 1909.24,47.2441 \n",
       "  \"/>\n",
       "<polyline clip-path=\"url(#clip652)\" style=\"stroke:#000000; stroke-width:2; stroke-opacity:0.1; fill:none\" points=\"\n",
       "  2232.79,1423.18 2232.79,47.2441 \n",
       "  \"/>\n",
       "<polyline clip-path=\"url(#clip650)\" style=\"stroke:#000000; stroke-width:4; stroke-opacity:1; fill:none\" points=\"\n",
       "  171.552,1423.18 2352.76,1423.18 \n",
       "  \"/>\n",
       "<polyline clip-path=\"url(#clip650)\" style=\"stroke:#000000; stroke-width:4; stroke-opacity:1; fill:none\" points=\"\n",
       "  291.522,1423.18 291.522,1406.67 \n",
       "  \"/>\n",
       "<polyline clip-path=\"url(#clip650)\" style=\"stroke:#000000; stroke-width:4; stroke-opacity:1; fill:none\" points=\"\n",
       "  615.066,1423.18 615.066,1406.67 \n",
       "  \"/>\n",
       "<polyline clip-path=\"url(#clip650)\" style=\"stroke:#000000; stroke-width:4; stroke-opacity:1; fill:none\" points=\"\n",
       "  938.61,1423.18 938.61,1406.67 \n",
       "  \"/>\n",
       "<polyline clip-path=\"url(#clip650)\" style=\"stroke:#000000; stroke-width:4; stroke-opacity:1; fill:none\" points=\"\n",
       "  1262.15,1423.18 1262.15,1406.67 \n",
       "  \"/>\n",
       "<polyline clip-path=\"url(#clip650)\" style=\"stroke:#000000; stroke-width:4; stroke-opacity:1; fill:none\" points=\"\n",
       "  1585.7,1423.18 1585.7,1406.67 \n",
       "  \"/>\n",
       "<polyline clip-path=\"url(#clip650)\" style=\"stroke:#000000; stroke-width:4; stroke-opacity:1; fill:none\" points=\"\n",
       "  1909.24,1423.18 1909.24,1406.67 \n",
       "  \"/>\n",
       "<polyline clip-path=\"url(#clip650)\" style=\"stroke:#000000; stroke-width:4; stroke-opacity:1; fill:none\" points=\"\n",
       "  2232.79,1423.18 2232.79,1406.67 \n",
       "  \"/>\n",
       "<path clip-path=\"url(#clip650)\" d=\"M 0 0 M291.522 1452.37 Q287.911 1452.37 286.082 1455.94 Q284.277 1459.48 284.277 1466.61 Q284.277 1473.71 286.082 1477.28 Q287.911 1480.82 291.522 1480.82 Q295.156 1480.82 296.962 1477.28 Q298.79 1473.71 298.79 1466.61 Q298.79 1459.48 296.962 1455.94 Q295.156 1452.37 291.522 1452.37 M291.522 1448.67 Q297.332 1448.67 300.388 1453.27 Q303.466 1457.86 303.466 1466.61 Q303.466 1475.33 300.388 1479.94 Q297.332 1484.52 291.522 1484.52 Q285.712 1484.52 282.633 1479.94 Q279.578 1475.33 279.578 1466.61 Q279.578 1457.86 282.633 1453.27 Q285.712 1448.67 291.522 1448.67 Z\" fill=\"#000000\" fill-rule=\"evenodd\" fill-opacity=\"1\" /><path clip-path=\"url(#clip650)\" d=\"M 0 0 M591.941 1479.92 L599.58 1479.92 L599.58 1453.55 L591.27 1455.22 L591.27 1450.96 L599.534 1449.29 L604.21 1449.29 L604.21 1479.92 L611.848 1479.92 L611.848 1483.85 L591.941 1483.85 L591.941 1479.92 Z\" fill=\"#000000\" fill-rule=\"evenodd\" fill-opacity=\"1\" /><path clip-path=\"url(#clip650)\" d=\"M 0 0 M626.918 1452.37 Q623.307 1452.37 621.478 1455.94 Q619.672 1459.48 619.672 1466.61 Q619.672 1473.71 621.478 1477.28 Q623.307 1480.82 626.918 1480.82 Q630.552 1480.82 632.358 1477.28 Q634.186 1473.71 634.186 1466.61 Q634.186 1459.48 632.358 1455.94 Q630.552 1452.37 626.918 1452.37 M626.918 1448.67 Q632.728 1448.67 635.783 1453.27 Q638.862 1457.86 638.862 1466.61 Q638.862 1475.33 635.783 1479.94 Q632.728 1484.52 626.918 1484.52 Q621.108 1484.52 618.029 1479.94 Q614.973 1475.33 614.973 1466.61 Q614.973 1457.86 618.029 1453.27 Q621.108 1448.67 626.918 1448.67 Z\" fill=\"#000000\" fill-rule=\"evenodd\" fill-opacity=\"1\" /><path clip-path=\"url(#clip650)\" d=\"M 0 0 M919.756 1479.92 L936.075 1479.92 L936.075 1483.85 L914.131 1483.85 L914.131 1479.92 Q916.793 1477.16 921.376 1472.53 Q925.983 1467.88 927.163 1466.54 Q929.409 1464.01 930.288 1462.28 Q931.191 1460.52 931.191 1458.83 Q931.191 1456.07 929.247 1454.34 Q927.325 1452.6 924.223 1452.6 Q922.024 1452.6 919.571 1453.37 Q917.14 1454.13 914.362 1455.68 L914.362 1450.96 Q917.186 1449.82 919.64 1449.25 Q922.094 1448.67 924.131 1448.67 Q929.501 1448.67 932.696 1451.35 Q935.89 1454.04 935.89 1458.53 Q935.89 1460.66 935.08 1462.58 Q934.293 1464.48 932.186 1467.07 Q931.608 1467.74 928.506 1470.96 Q925.404 1474.15 919.756 1479.92 Z\" fill=\"#000000\" fill-rule=\"evenodd\" fill-opacity=\"1\" /><path clip-path=\"url(#clip650)\" d=\"M 0 0 M951.145 1452.37 Q947.533 1452.37 945.705 1455.94 Q943.899 1459.48 943.899 1466.61 Q943.899 1473.71 945.705 1477.28 Q947.533 1480.82 951.145 1480.82 Q954.779 1480.82 956.584 1477.28 Q958.413 1473.71 958.413 1466.61 Q958.413 1459.48 956.584 1455.94 Q954.779 1452.37 951.145 1452.37 M951.145 1448.67 Q956.955 1448.67 960.01 1453.27 Q963.089 1457.86 963.089 1466.61 Q963.089 1475.33 960.01 1479.94 Q956.955 1484.52 951.145 1484.52 Q945.334 1484.52 942.256 1479.94 Q939.2 1475.33 939.2 1466.61 Q939.2 1457.86 942.256 1453.27 Q945.334 1448.67 951.145 1448.67 Z\" fill=\"#000000\" fill-rule=\"evenodd\" fill-opacity=\"1\" /><path clip-path=\"url(#clip650)\" d=\"M 0 0 M1252.89 1465.22 Q1256.25 1465.94 1258.13 1468.2 Q1260.02 1470.47 1260.02 1473.81 Q1260.02 1478.92 1256.51 1481.72 Q1252.99 1484.52 1246.51 1484.52 Q1244.33 1484.52 1242.02 1484.08 Q1239.72 1483.67 1237.27 1482.81 L1237.27 1478.3 Q1239.21 1479.43 1241.53 1480.01 Q1243.84 1480.59 1246.37 1480.59 Q1250.77 1480.59 1253.06 1478.85 Q1255.37 1477.12 1255.37 1473.81 Q1255.37 1470.75 1253.22 1469.04 Q1251.09 1467.3 1247.27 1467.3 L1243.24 1467.3 L1243.24 1463.46 L1247.45 1463.46 Q1250.9 1463.46 1252.73 1462.09 Q1254.56 1460.7 1254.56 1458.11 Q1254.56 1455.45 1252.66 1454.04 Q1250.79 1452.6 1247.27 1452.6 Q1245.35 1452.6 1243.15 1453.02 Q1240.95 1453.44 1238.31 1454.31 L1238.31 1450.15 Q1240.97 1449.41 1243.29 1449.04 Q1245.63 1448.67 1247.69 1448.67 Q1253.01 1448.67 1256.11 1451.1 Q1259.21 1453.5 1259.21 1457.63 Q1259.21 1460.5 1257.57 1462.49 Q1255.93 1464.45 1252.89 1465.22 Z\" fill=\"#000000\" fill-rule=\"evenodd\" fill-opacity=\"1\" /><path clip-path=\"url(#clip650)\" d=\"M 0 0 M1275.09 1452.37 Q1271.48 1452.37 1269.65 1455.94 Q1267.85 1459.48 1267.85 1466.61 Q1267.85 1473.71 1269.65 1477.28 Q1271.48 1480.82 1275.09 1480.82 Q1278.73 1480.82 1280.53 1477.28 Q1282.36 1473.71 1282.36 1466.61 Q1282.36 1459.48 1280.53 1455.94 Q1278.73 1452.37 1275.09 1452.37 M1275.09 1448.67 Q1280.9 1448.67 1283.96 1453.27 Q1287.04 1457.86 1287.04 1466.61 Q1287.04 1475.33 1283.96 1479.94 Q1280.9 1484.52 1275.09 1484.52 Q1269.28 1484.52 1266.2 1479.94 Q1263.15 1475.33 1263.15 1466.61 Q1263.15 1457.86 1266.2 1453.27 Q1269.28 1448.67 1275.09 1448.67 Z\" fill=\"#000000\" fill-rule=\"evenodd\" fill-opacity=\"1\" /><path clip-path=\"url(#clip650)\" d=\"M 0 0 M1575.2 1453.37 L1563.39 1471.81 L1575.2 1471.81 L1575.2 1453.37 M1573.97 1449.29 L1579.85 1449.29 L1579.85 1471.81 L1584.78 1471.81 L1584.78 1475.7 L1579.85 1475.7 L1579.85 1483.85 L1575.2 1483.85 L1575.2 1475.7 L1559.6 1475.7 L1559.6 1471.19 L1573.97 1449.29 Z\" fill=\"#000000\" fill-rule=\"evenodd\" fill-opacity=\"1\" /><path clip-path=\"url(#clip650)\" d=\"M 0 0 M1599.85 1452.37 Q1596.24 1452.37 1594.41 1455.94 Q1592.61 1459.48 1592.61 1466.61 Q1592.61 1473.71 1594.41 1477.28 Q1596.24 1480.82 1599.85 1480.82 Q1603.49 1480.82 1605.29 1477.28 Q1607.12 1473.71 1607.12 1466.61 Q1607.12 1459.48 1605.29 1455.94 Q1603.49 1452.37 1599.85 1452.37 M1599.85 1448.67 Q1605.66 1448.67 1608.72 1453.27 Q1611.8 1457.86 1611.8 1466.61 Q1611.8 1475.33 1608.72 1479.94 Q1605.66 1484.52 1599.85 1484.52 Q1594.04 1484.52 1590.96 1479.94 Q1587.91 1475.33 1587.91 1466.61 Q1587.91 1457.86 1590.96 1453.27 Q1594.04 1448.67 1599.85 1448.67 Z\" fill=\"#000000\" fill-rule=\"evenodd\" fill-opacity=\"1\" /><path clip-path=\"url(#clip650)\" d=\"M 0 0 M1886.01 1449.29 L1904.37 1449.29 L1904.37 1453.23 L1890.3 1453.23 L1890.3 1461.7 Q1891.31 1461.35 1892.33 1461.19 Q1893.35 1461 1894.37 1461 Q1900.16 1461 1903.54 1464.18 Q1906.92 1467.35 1906.92 1472.76 Q1906.92 1478.34 1903.44 1481.44 Q1899.97 1484.52 1893.65 1484.52 Q1891.48 1484.52 1889.21 1484.15 Q1886.96 1483.78 1884.55 1483.04 L1884.55 1478.34 Q1886.64 1479.48 1888.86 1480.03 Q1891.08 1480.59 1893.56 1480.59 Q1897.56 1480.59 1899.9 1478.48 Q1902.24 1476.38 1902.24 1472.76 Q1902.24 1469.15 1899.9 1467.05 Q1897.56 1464.94 1893.56 1464.94 Q1891.68 1464.94 1889.81 1465.36 Q1887.96 1465.77 1886.01 1466.65 L1886.01 1449.29 Z\" fill=\"#000000\" fill-rule=\"evenodd\" fill-opacity=\"1\" /><path clip-path=\"url(#clip650)\" d=\"M 0 0 M1921.98 1452.37 Q1918.37 1452.37 1916.55 1455.94 Q1914.74 1459.48 1914.74 1466.61 Q1914.74 1473.71 1916.55 1477.28 Q1918.37 1480.82 1921.98 1480.82 Q1925.62 1480.82 1927.42 1477.28 Q1929.25 1473.71 1929.25 1466.61 Q1929.25 1459.48 1927.42 1455.94 Q1925.62 1452.37 1921.98 1452.37 M1921.98 1448.67 Q1927.79 1448.67 1930.85 1453.27 Q1933.93 1457.86 1933.93 1466.61 Q1933.93 1475.33 1930.85 1479.94 Q1927.79 1484.52 1921.98 1484.52 Q1916.17 1484.52 1913.1 1479.94 Q1910.04 1475.33 1910.04 1466.61 Q1910.04 1457.86 1913.1 1453.27 Q1916.17 1448.67 1921.98 1448.67 Z\" fill=\"#000000\" fill-rule=\"evenodd\" fill-opacity=\"1\" /><path clip-path=\"url(#clip650)\" d=\"M 0 0 M2219.68 1464.71 Q2216.54 1464.71 2214.68 1466.86 Q2212.86 1469.01 2212.86 1472.76 Q2212.86 1476.49 2214.68 1478.67 Q2216.54 1480.82 2219.68 1480.82 Q2222.83 1480.82 2224.66 1478.67 Q2226.51 1476.49 2226.51 1472.76 Q2226.51 1469.01 2224.66 1466.86 Q2222.83 1464.71 2219.68 1464.71 M2228.97 1450.06 L2228.97 1454.31 Q2227.21 1453.48 2225.4 1453.04 Q2223.62 1452.6 2221.86 1452.6 Q2217.23 1452.6 2214.78 1455.73 Q2212.35 1458.85 2212 1465.17 Q2213.36 1463.16 2215.42 1462.09 Q2217.48 1461 2219.96 1461 Q2225.17 1461 2228.18 1464.18 Q2231.21 1467.32 2231.21 1472.76 Q2231.21 1478.09 2228.06 1481.31 Q2224.92 1484.52 2219.68 1484.52 Q2213.69 1484.52 2210.52 1479.94 Q2207.35 1475.33 2207.35 1466.61 Q2207.35 1458.41 2211.23 1453.55 Q2215.12 1448.67 2221.67 1448.67 Q2223.43 1448.67 2225.22 1449.01 Q2227.02 1449.36 2228.97 1450.06 Z\" fill=\"#000000\" fill-rule=\"evenodd\" fill-opacity=\"1\" /><path clip-path=\"url(#clip650)\" d=\"M 0 0 M2246.28 1452.37 Q2242.67 1452.37 2240.84 1455.94 Q2239.04 1459.48 2239.04 1466.61 Q2239.04 1473.71 2240.84 1477.28 Q2242.67 1480.82 2246.28 1480.82 Q2249.92 1480.82 2251.72 1477.28 Q2253.55 1473.71 2253.55 1466.61 Q2253.55 1459.48 2251.72 1455.94 Q2249.92 1452.37 2246.28 1452.37 M2246.28 1448.67 Q2252.09 1448.67 2255.15 1453.27 Q2258.23 1457.86 2258.23 1466.61 Q2258.23 1475.33 2255.15 1479.94 Q2252.09 1484.52 2246.28 1484.52 Q2240.47 1484.52 2237.39 1479.94 Q2234.34 1475.33 2234.34 1466.61 Q2234.34 1457.86 2237.39 1453.27 Q2240.47 1448.67 2246.28 1448.67 Z\" fill=\"#000000\" fill-rule=\"evenodd\" fill-opacity=\"1\" /><path clip-path=\"url(#clip650)\" d=\"M 0 0 M997.309 1513.81 L997.309 1531.66 L1005.39 1531.66 Q1009.88 1531.66 1012.33 1529.34 Q1014.78 1527.02 1014.78 1522.72 Q1014.78 1518.45 1012.33 1516.13 Q1009.88 1513.81 1005.39 1513.81 L997.309 1513.81 M990.879 1508.52 L1005.39 1508.52 Q1013.38 1508.52 1017.46 1512.15 Q1021.56 1515.75 1021.56 1522.72 Q1021.56 1529.75 1017.46 1533.35 Q1013.38 1536.95 1005.39 1536.95 L997.309 1536.95 L997.309 1556.04 L990.879 1556.04 L990.879 1508.52 Z\" fill=\"#000000\" fill-rule=\"evenodd\" fill-opacity=\"1\" /><path clip-path=\"url(#clip650)\" d=\"M 0 0 M1047.22 1525.87 Q1046.23 1525.3 1045.05 1525.04 Q1043.91 1524.76 1042.51 1524.76 Q1037.54 1524.76 1034.87 1528 Q1032.22 1531.22 1032.22 1537.27 L1032.22 1556.04 L1026.34 1556.04 L1026.34 1520.4 L1032.22 1520.4 L1032.22 1525.93 Q1034.07 1522.69 1037.03 1521.13 Q1039.99 1519.54 1044.22 1519.54 Q1044.83 1519.54 1045.56 1519.63 Q1046.29 1519.7 1047.18 1519.85 L1047.22 1525.87 Z\" fill=\"#000000\" fill-rule=\"evenodd\" fill-opacity=\"1\" /><path clip-path=\"url(#clip650)\" d=\"M 0 0 M1053.36 1520.4 L1059.22 1520.4 L1059.22 1556.04 L1053.36 1556.04 L1053.36 1520.4 M1053.36 1506.52 L1059.22 1506.52 L1059.22 1513.93 L1053.36 1513.93 L1053.36 1506.52 Z\" fill=\"#000000\" fill-rule=\"evenodd\" fill-opacity=\"1\" /><path clip-path=\"url(#clip650)\" d=\"M 0 0 M1091.01 1521.76 L1091.01 1527.24 Q1088.53 1525.87 1086.01 1525.2 Q1083.53 1524.5 1080.99 1524.5 Q1075.29 1524.5 1072.14 1528.13 Q1068.99 1531.73 1068.99 1538.25 Q1068.99 1544.78 1072.14 1548.4 Q1075.29 1552 1080.99 1552 Q1083.53 1552 1086.01 1551.33 Q1088.53 1550.63 1091.01 1549.26 L1091.01 1554.68 Q1088.56 1555.82 1085.92 1556.39 Q1083.31 1556.97 1080.35 1556.97 Q1072.3 1556.97 1067.55 1551.91 Q1062.81 1546.85 1062.81 1538.25 Q1062.81 1529.53 1067.59 1524.53 Q1072.39 1519.54 1080.73 1519.54 Q1083.44 1519.54 1086.01 1520.11 Q1088.59 1520.65 1091.01 1521.76 Z\" fill=\"#000000\" fill-rule=\"evenodd\" fill-opacity=\"1\" /><path clip-path=\"url(#clip650)\" d=\"M 0 0 M1127.65 1536.76 L1127.65 1539.62 L1100.72 1539.62 Q1101.1 1545.67 1104.35 1548.85 Q1107.63 1552 1113.45 1552 Q1116.82 1552 1119.98 1551.17 Q1123.16 1550.35 1126.28 1548.69 L1126.28 1554.23 Q1123.13 1555.57 1119.82 1556.27 Q1116.51 1556.97 1113.1 1556.97 Q1104.57 1556.97 1099.57 1552 Q1094.61 1547.04 1094.61 1538.57 Q1094.61 1529.82 1099.32 1524.69 Q1104.06 1519.54 1112.08 1519.54 Q1119.28 1519.54 1123.45 1524.18 Q1127.65 1528.8 1127.65 1536.76 M1121.79 1535.04 Q1121.73 1530.23 1119.08 1527.37 Q1116.47 1524.5 1112.15 1524.5 Q1107.24 1524.5 1104.28 1527.27 Q1101.36 1530.04 1100.91 1535.07 L1121.79 1535.04 Z\" fill=\"#000000\" fill-rule=\"evenodd\" fill-opacity=\"1\" /><path clip-path=\"url(#clip650)\" d=\"M 0 0 M1156.51 1521.45 L1156.51 1526.98 Q1154.03 1525.71 1151.36 1525.07 Q1148.69 1524.44 1145.82 1524.44 Q1141.46 1524.44 1139.26 1525.77 Q1137.1 1527.11 1137.1 1529.79 Q1137.1 1531.82 1138.66 1533 Q1140.22 1534.15 1144.93 1535.2 L1146.93 1535.64 Q1153.17 1536.98 1155.78 1539.43 Q1158.42 1541.85 1158.42 1546.21 Q1158.42 1551.17 1154.48 1554.07 Q1150.56 1556.97 1143.69 1556.97 Q1140.82 1556.97 1137.7 1556.39 Q1134.62 1555.85 1131.18 1554.74 L1131.18 1548.69 Q1134.43 1550.38 1137.58 1551.24 Q1140.73 1552.07 1143.82 1552.07 Q1147.95 1552.07 1150.18 1550.66 Q1152.41 1549.23 1152.41 1546.65 Q1152.41 1544.27 1150.79 1542.99 Q1149.19 1541.72 1143.75 1540.54 L1141.71 1540.07 Q1136.27 1538.92 1133.85 1536.56 Q1131.43 1534.18 1131.43 1530.04 Q1131.43 1525.01 1135 1522.27 Q1138.56 1519.54 1145.12 1519.54 Q1148.37 1519.54 1151.23 1520.01 Q1154.1 1520.49 1156.51 1521.45 Z\" fill=\"#000000\" fill-rule=\"evenodd\" fill-opacity=\"1\" /><path clip-path=\"url(#clip650)\" d=\"M 0 0 M1185.29 1520.4 L1191.14 1520.4 L1191.14 1556.04 L1185.29 1556.04 L1185.29 1520.4 M1185.29 1506.52 L1191.14 1506.52 L1191.14 1513.93 L1185.29 1513.93 L1185.29 1506.52 Z\" fill=\"#000000\" fill-rule=\"evenodd\" fill-opacity=\"1\" /><path clip-path=\"url(#clip650)\" d=\"M 0 0 M1226.92 1534.53 L1226.92 1556.04 L1221.06 1556.04 L1221.06 1534.72 Q1221.06 1529.66 1219.09 1527.14 Q1217.12 1524.63 1213.17 1524.63 Q1208.43 1524.63 1205.69 1527.65 Q1202.95 1530.68 1202.95 1535.9 L1202.95 1556.04 L1197.06 1556.04 L1197.06 1520.4 L1202.95 1520.4 L1202.95 1525.93 Q1205.05 1522.72 1207.89 1521.13 Q1210.75 1519.54 1214.47 1519.54 Q1220.62 1519.54 1223.77 1523.36 Q1226.92 1527.14 1226.92 1534.53 Z\" fill=\"#000000\" fill-rule=\"evenodd\" fill-opacity=\"1\" /><path clip-path=\"url(#clip650)\" d=\"M 0 0 M1254.04 1508.52 L1260.47 1508.52 L1260.47 1552.73 Q1260.47 1561.33 1257.19 1565.21 Q1253.94 1569.09 1246.72 1569.09 L1244.27 1569.09 L1244.27 1563.68 L1246.27 1563.68 Q1250.54 1563.68 1252.29 1561.3 Q1254.04 1558.91 1254.04 1552.73 L1254.04 1508.52 Z\" fill=\"#000000\" fill-rule=\"evenodd\" fill-opacity=\"1\" /><path clip-path=\"url(#clip650)\" d=\"M 0 0 M1266.01 1541.98 L1266.01 1520.4 L1271.86 1520.4 L1271.86 1541.75 Q1271.86 1546.81 1273.83 1549.36 Q1275.81 1551.87 1279.76 1551.87 Q1284.5 1551.87 1287.23 1548.85 Q1290 1545.83 1290 1540.61 L1290 1520.4 L1295.86 1520.4 L1295.86 1556.04 L1290 1556.04 L1290 1550.57 Q1287.87 1553.82 1285.04 1555.41 Q1282.24 1556.97 1278.51 1556.97 Q1272.37 1556.97 1269.19 1553.15 Q1266.01 1549.33 1266.01 1541.98 M1280.74 1519.54 L1280.74 1519.54 Z\" fill=\"#000000\" fill-rule=\"evenodd\" fill-opacity=\"1\" /><path clip-path=\"url(#clip650)\" d=\"M 0 0 M1331.64 1534.53 L1331.64 1556.04 L1325.78 1556.04 L1325.78 1534.72 Q1325.78 1529.66 1323.81 1527.14 Q1321.83 1524.63 1317.89 1524.63 Q1313.14 1524.63 1310.41 1527.65 Q1307.67 1530.68 1307.67 1535.9 L1307.67 1556.04 L1301.78 1556.04 L1301.78 1520.4 L1307.67 1520.4 L1307.67 1525.93 Q1309.77 1522.72 1312.6 1521.13 Q1315.47 1519.54 1319.19 1519.54 Q1325.33 1519.54 1328.48 1523.36 Q1331.64 1527.14 1331.64 1534.53 Z\" fill=\"#000000\" fill-rule=\"evenodd\" fill-opacity=\"1\" /><path clip-path=\"url(#clip650)\" d=\"M 0 0 M1368.27 1536.76 L1368.27 1539.62 L1341.34 1539.62 Q1341.73 1545.67 1344.97 1548.85 Q1348.25 1552 1354.07 1552 Q1357.45 1552 1360.6 1551.17 Q1363.78 1550.35 1366.9 1548.69 L1366.9 1554.23 Q1363.75 1555.57 1360.44 1556.27 Q1357.13 1556.97 1353.72 1556.97 Q1345.19 1556.97 1340.2 1552 Q1335.23 1547.04 1335.23 1538.57 Q1335.23 1529.82 1339.94 1524.69 Q1344.69 1519.54 1352.71 1519.54 Q1359.9 1519.54 1364.07 1524.18 Q1368.27 1528.8 1368.27 1536.76 M1362.41 1535.04 Q1362.35 1530.23 1359.71 1527.37 Q1357.1 1524.5 1352.77 1524.5 Q1347.87 1524.5 1344.91 1527.27 Q1341.98 1530.04 1341.53 1535.07 L1362.41 1535.04 Z\" fill=\"#000000\" fill-rule=\"evenodd\" fill-opacity=\"1\" /><path clip-path=\"url(#clip650)\" d=\"M 0 0 M1401.5 1550.63 L1423.94 1550.63 L1423.94 1556.04 L1393.76 1556.04 L1393.76 1550.63 Q1397.43 1546.85 1403.73 1540.48 Q1410.06 1534.08 1411.68 1532.24 Q1414.77 1528.77 1415.98 1526.38 Q1417.22 1523.96 1417.22 1521.64 Q1417.22 1517.85 1414.55 1515.46 Q1411.91 1513.08 1407.64 1513.08 Q1404.62 1513.08 1401.24 1514.13 Q1397.9 1515.18 1394.08 1517.31 L1394.08 1510.82 Q1397.97 1509.26 1401.34 1508.46 Q1404.71 1507.66 1407.51 1507.66 Q1414.9 1507.66 1419.29 1511.36 Q1423.68 1515.05 1423.68 1521.22 Q1423.68 1524.15 1422.57 1526.79 Q1421.49 1529.4 1418.59 1532.97 Q1417.8 1533.89 1413.53 1538.32 Q1409.27 1542.71 1401.5 1550.63 Z\" fill=\"#000000\" fill-rule=\"evenodd\" fill-opacity=\"1\" /><path clip-path=\"url(#clip650)\" d=\"M 0 0 M1444.66 1512.76 Q1439.69 1512.76 1437.18 1517.66 Q1434.7 1522.53 1434.7 1532.33 Q1434.7 1542.1 1437.18 1547 Q1439.69 1551.87 1444.66 1551.87 Q1449.66 1551.87 1452.14 1547 Q1454.65 1542.1 1454.65 1532.33 Q1454.65 1522.53 1452.14 1517.66 Q1449.66 1512.76 1444.66 1512.76 M1444.66 1507.66 Q1452.65 1507.66 1456.85 1514 Q1461.08 1520.3 1461.08 1532.33 Q1461.08 1544.33 1456.85 1550.66 Q1452.65 1556.97 1444.66 1556.97 Q1436.67 1556.97 1432.44 1550.66 Q1428.24 1544.33 1428.24 1532.33 Q1428.24 1520.3 1432.44 1514 Q1436.67 1507.66 1444.66 1507.66 Z\" fill=\"#000000\" fill-rule=\"evenodd\" fill-opacity=\"1\" /><path clip-path=\"url(#clip650)\" d=\"M 0 0 M1469.17 1550.63 L1479.67 1550.63 L1479.67 1514.38 L1468.24 1516.67 L1468.24 1510.82 L1479.61 1508.52 L1486.04 1508.52 L1486.04 1550.63 L1496.54 1550.63 L1496.54 1556.04 L1469.17 1556.04 L1469.17 1550.63 Z\" fill=\"#000000\" fill-rule=\"evenodd\" fill-opacity=\"1\" /><path clip-path=\"url(#clip650)\" d=\"M 0 0 M1503.7 1555.06 L1503.7 1549.2 Q1506.12 1550.35 1508.6 1550.95 Q1511.08 1551.56 1513.47 1551.56 Q1519.84 1551.56 1523.18 1547.29 Q1526.55 1542.99 1527.03 1534.27 Q1525.18 1537.01 1522.35 1538.47 Q1519.52 1539.94 1516.08 1539.94 Q1508.95 1539.94 1504.78 1535.64 Q1500.65 1531.31 1500.65 1523.83 Q1500.65 1516.51 1504.97 1512.09 Q1509.3 1507.66 1516.5 1507.66 Q1524.74 1507.66 1529.07 1514 Q1533.43 1520.3 1533.43 1532.33 Q1533.43 1543.57 1528.08 1550.28 Q1522.77 1556.97 1513.76 1556.97 Q1511.34 1556.97 1508.86 1556.49 Q1506.37 1556.01 1503.7 1555.06 M1516.5 1534.91 Q1520.82 1534.91 1523.34 1531.95 Q1525.89 1528.99 1525.89 1523.83 Q1525.89 1518.71 1523.34 1515.75 Q1520.82 1512.76 1516.5 1512.76 Q1512.17 1512.76 1509.62 1515.75 Q1507.11 1518.71 1507.11 1523.83 Q1507.11 1528.99 1509.62 1531.95 Q1512.17 1534.91 1516.5 1534.91 Z\" fill=\"#000000\" fill-rule=\"evenodd\" fill-opacity=\"1\" /><polyline clip-path=\"url(#clip652)\" style=\"stroke:#000000; stroke-width:2; stroke-opacity:0.1; fill:none\" points=\"\n",
       "  171.552,1384.24 2352.76,1384.24 \n",
       "  \"/>\n",
       "<polyline clip-path=\"url(#clip652)\" style=\"stroke:#000000; stroke-width:2; stroke-opacity:0.1; fill:none\" points=\"\n",
       "  171.552,1113.81 2352.76,1113.81 \n",
       "  \"/>\n",
       "<polyline clip-path=\"url(#clip652)\" style=\"stroke:#000000; stroke-width:2; stroke-opacity:0.1; fill:none\" points=\"\n",
       "  171.552,843.383 2352.76,843.383 \n",
       "  \"/>\n",
       "<polyline clip-path=\"url(#clip652)\" style=\"stroke:#000000; stroke-width:2; stroke-opacity:0.1; fill:none\" points=\"\n",
       "  171.552,572.955 2352.76,572.955 \n",
       "  \"/>\n",
       "<polyline clip-path=\"url(#clip652)\" style=\"stroke:#000000; stroke-width:2; stroke-opacity:0.1; fill:none\" points=\"\n",
       "  171.552,302.528 2352.76,302.528 \n",
       "  \"/>\n",
       "<polyline clip-path=\"url(#clip650)\" style=\"stroke:#000000; stroke-width:4; stroke-opacity:1; fill:none\" points=\"\n",
       "  171.552,1423.18 171.552,47.2441 \n",
       "  \"/>\n",
       "<polyline clip-path=\"url(#clip650)\" style=\"stroke:#000000; stroke-width:4; stroke-opacity:1; fill:none\" points=\"\n",
       "  171.552,1384.24 197.726,1384.24 \n",
       "  \"/>\n",
       "<polyline clip-path=\"url(#clip650)\" style=\"stroke:#000000; stroke-width:4; stroke-opacity:1; fill:none\" points=\"\n",
       "  171.552,1113.81 197.726,1113.81 \n",
       "  \"/>\n",
       "<polyline clip-path=\"url(#clip650)\" style=\"stroke:#000000; stroke-width:4; stroke-opacity:1; fill:none\" points=\"\n",
       "  171.552,843.383 197.726,843.383 \n",
       "  \"/>\n",
       "<polyline clip-path=\"url(#clip650)\" style=\"stroke:#000000; stroke-width:4; stroke-opacity:1; fill:none\" points=\"\n",
       "  171.552,572.955 197.726,572.955 \n",
       "  \"/>\n",
       "<polyline clip-path=\"url(#clip650)\" style=\"stroke:#000000; stroke-width:4; stroke-opacity:1; fill:none\" points=\"\n",
       "  171.552,302.528 197.726,302.528 \n",
       "  \"/>\n",
       "<path clip-path=\"url(#clip650)\" d=\"M 0 0 M86.6401 1370.04 Q83.029 1370.04 81.2003 1373.6 Q79.3948 1377.14 79.3948 1384.27 Q79.3948 1391.38 81.2003 1394.94 Q83.029 1398.49 86.6401 1398.49 Q90.2743 1398.49 92.0799 1394.94 Q93.9086 1391.38 93.9086 1384.27 Q93.9086 1377.14 92.0799 1373.6 Q90.2743 1370.04 86.6401 1370.04 M86.6401 1366.33 Q92.4502 1366.33 95.5058 1370.94 Q98.5845 1375.52 98.5845 1384.27 Q98.5845 1393 95.5058 1397.61 Q92.4502 1402.19 86.6401 1402.19 Q80.8299 1402.19 77.7512 1397.61 Q74.6957 1393 74.6957 1384.27 Q74.6957 1375.52 77.7512 1370.94 Q80.8299 1366.33 86.6401 1366.33 Z\" fill=\"#000000\" fill-rule=\"evenodd\" fill-opacity=\"1\" /><path clip-path=\"url(#clip650)\" d=\"M 0 0 M103.654 1395.64 L108.538 1395.64 L108.538 1401.52 L103.654 1401.52 L103.654 1395.64 Z\" fill=\"#000000\" fill-rule=\"evenodd\" fill-opacity=\"1\" /><path clip-path=\"url(#clip650)\" d=\"M 0 0 M123.607 1370.04 Q119.996 1370.04 118.168 1373.6 Q116.362 1377.14 116.362 1384.27 Q116.362 1391.38 118.168 1394.94 Q119.996 1398.49 123.607 1398.49 Q127.242 1398.49 129.047 1394.94 Q130.876 1391.38 130.876 1384.27 Q130.876 1377.14 129.047 1373.6 Q127.242 1370.04 123.607 1370.04 M123.607 1366.33 Q129.418 1366.33 132.473 1370.94 Q135.552 1375.52 135.552 1384.27 Q135.552 1393 132.473 1397.61 Q129.418 1402.19 123.607 1402.19 Q117.797 1402.19 114.719 1397.61 Q111.663 1393 111.663 1384.27 Q111.663 1375.52 114.719 1370.94 Q117.797 1366.33 123.607 1366.33 Z\" fill=\"#000000\" fill-rule=\"evenodd\" fill-opacity=\"1\" /><path clip-path=\"url(#clip650)\" d=\"M 0 0 M83.2605 1127.16 L99.5798 1127.16 L99.5798 1131.09 L77.6355 1131.09 L77.6355 1127.16 Q80.2975 1124.4 84.8808 1119.77 Q89.4873 1115.12 90.6678 1113.78 Q92.9132 1111.25 93.7928 1109.52 Q94.6956 1107.76 94.6956 1106.07 Q94.6956 1103.31 92.7512 1101.58 Q90.8299 1099.84 87.728 1099.84 Q85.529 1099.84 83.0753 1100.6 Q80.6447 1101.37 77.867 1102.92 L77.867 1098.2 Q80.691 1097.06 83.1447 1096.48 Q85.5984 1095.91 87.6354 1095.91 Q93.0058 1095.91 96.2002 1098.59 Q99.3946 1101.28 99.3946 1105.77 Q99.3946 1107.9 98.5845 1109.82 Q97.7974 1111.72 95.691 1114.31 Q95.1123 1114.98 92.0104 1118.2 Q88.9086 1121.39 83.2605 1127.16 Z\" fill=\"#000000\" fill-rule=\"evenodd\" fill-opacity=\"1\" /><path clip-path=\"url(#clip650)\" d=\"M 0 0 M104.649 1125.21 L109.533 1125.21 L109.533 1131.09 L104.649 1131.09 L104.649 1125.21 Z\" fill=\"#000000\" fill-rule=\"evenodd\" fill-opacity=\"1\" /><path clip-path=\"url(#clip650)\" d=\"M 0 0 M114.649 1096.53 L133.006 1096.53 L133.006 1100.47 L118.932 1100.47 L118.932 1108.94 Q119.95 1108.59 120.969 1108.43 Q121.987 1108.24 123.006 1108.24 Q128.793 1108.24 132.172 1111.41 Q135.552 1114.59 135.552 1120 Q135.552 1125.58 132.08 1128.68 Q128.607 1131.76 122.288 1131.76 Q120.112 1131.76 117.844 1131.39 Q115.598 1131.02 113.191 1130.28 L113.191 1125.58 Q115.274 1126.72 117.496 1127.27 Q119.719 1127.83 122.195 1127.83 Q126.2 1127.83 128.538 1125.72 Q130.876 1123.61 130.876 1120 Q130.876 1116.39 128.538 1114.29 Q126.2 1112.18 122.195 1112.18 Q120.32 1112.18 118.445 1112.6 Q116.594 1113.01 114.649 1113.89 L114.649 1096.53 Z\" fill=\"#000000\" fill-rule=\"evenodd\" fill-opacity=\"1\" /><path clip-path=\"url(#clip650)\" d=\"M 0 0 M77.6818 826.103 L96.0382 826.103 L96.0382 830.038 L81.9642 830.038 L81.9642 838.51 Q82.9827 838.163 84.0012 838.001 Q85.0197 837.816 86.0382 837.816 Q91.8252 837.816 95.2049 840.987 Q98.5845 844.158 98.5845 849.575 Q98.5845 855.154 95.1123 858.256 Q91.6401 861.334 85.3206 861.334 Q83.1447 861.334 80.8762 860.964 Q78.6309 860.594 76.2235 859.853 L76.2235 855.154 Q78.3068 856.288 80.529 856.844 Q82.7512 857.399 85.2281 857.399 Q89.2327 857.399 91.5706 855.293 Q93.9086 853.186 93.9086 849.575 Q93.9086 845.964 91.5706 843.858 Q89.2327 841.751 85.2281 841.751 Q83.3531 841.751 81.4781 842.168 Q79.6262 842.584 77.6818 843.464 L77.6818 826.103 Z\" fill=\"#000000\" fill-rule=\"evenodd\" fill-opacity=\"1\" /><path clip-path=\"url(#clip650)\" d=\"M 0 0 M103.654 854.783 L108.538 854.783 L108.538 860.663 L103.654 860.663 L103.654 854.783 Z\" fill=\"#000000\" fill-rule=\"evenodd\" fill-opacity=\"1\" /><path clip-path=\"url(#clip650)\" d=\"M 0 0 M123.607 829.182 Q119.996 829.182 118.168 832.747 Q116.362 836.288 116.362 843.418 Q116.362 850.524 118.168 854.089 Q119.996 857.631 123.607 857.631 Q127.242 857.631 129.047 854.089 Q130.876 850.524 130.876 843.418 Q130.876 836.288 129.047 832.747 Q127.242 829.182 123.607 829.182 M123.607 825.478 Q129.418 825.478 132.473 830.084 Q135.552 834.668 135.552 843.418 Q135.552 852.145 132.473 856.751 Q129.418 861.334 123.607 861.334 Q117.797 861.334 114.719 856.751 Q111.663 852.145 111.663 843.418 Q111.663 834.668 114.719 830.084 Q117.797 825.478 123.607 825.478 Z\" fill=\"#000000\" fill-rule=\"evenodd\" fill-opacity=\"1\" /><path clip-path=\"url(#clip650)\" d=\"M 0 0 M77.3577 555.675 L99.5798 555.675 L99.5798 557.666 L87.0336 590.235 L82.1494 590.235 L93.9549 559.611 L77.3577 559.611 L77.3577 555.675 Z\" fill=\"#000000\" fill-rule=\"evenodd\" fill-opacity=\"1\" /><path clip-path=\"url(#clip650)\" d=\"M 0 0 M104.649 584.356 L109.533 584.356 L109.533 590.235 L104.649 590.235 L104.649 584.356 Z\" fill=\"#000000\" fill-rule=\"evenodd\" fill-opacity=\"1\" /><path clip-path=\"url(#clip650)\" d=\"M 0 0 M114.649 555.675 L133.006 555.675 L133.006 559.611 L118.932 559.611 L118.932 568.083 Q119.95 567.736 120.969 567.573 Q121.987 567.388 123.006 567.388 Q128.793 567.388 132.172 570.56 Q135.552 573.731 135.552 579.147 Q135.552 584.726 132.08 587.828 Q128.607 590.907 122.288 590.907 Q120.112 590.907 117.844 590.536 Q115.598 590.166 113.191 589.425 L113.191 584.726 Q115.274 585.86 117.496 586.416 Q119.719 586.972 122.195 586.972 Q126.2 586.972 128.538 584.865 Q130.876 582.759 130.876 579.147 Q130.876 575.536 128.538 573.43 Q126.2 571.323 122.195 571.323 Q120.32 571.323 118.445 571.74 Q116.594 572.157 114.649 573.036 L114.649 555.675 Z\" fill=\"#000000\" fill-rule=\"evenodd\" fill-opacity=\"1\" /><path clip-path=\"url(#clip650)\" d=\"M 0 0 M51.6634 315.873 L59.3023 315.873 L59.3023 289.507 L50.9921 291.174 L50.9921 286.914 L59.256 285.248 L63.9319 285.248 L63.9319 315.873 L71.5707 315.873 L71.5707 319.808 L51.6634 319.808 L51.6634 315.873 Z\" fill=\"#000000\" fill-rule=\"evenodd\" fill-opacity=\"1\" /><path clip-path=\"url(#clip650)\" d=\"M 0 0 M86.6401 288.326 Q83.029 288.326 81.2003 291.891 Q79.3948 295.433 79.3948 302.562 Q79.3948 309.669 81.2003 313.234 Q83.029 316.775 86.6401 316.775 Q90.2743 316.775 92.0799 313.234 Q93.9086 309.669 93.9086 302.562 Q93.9086 295.433 92.0799 291.891 Q90.2743 288.326 86.6401 288.326 M86.6401 284.623 Q92.4502 284.623 95.5058 289.229 Q98.5845 293.813 98.5845 302.562 Q98.5845 311.289 95.5058 315.896 Q92.4502 320.479 86.6401 320.479 Q80.8299 320.479 77.7512 315.896 Q74.6957 311.289 74.6957 302.562 Q74.6957 293.813 77.7512 289.229 Q80.8299 284.623 86.6401 284.623 Z\" fill=\"#000000\" fill-rule=\"evenodd\" fill-opacity=\"1\" /><path clip-path=\"url(#clip650)\" d=\"M 0 0 M103.654 313.928 L108.538 313.928 L108.538 319.808 L103.654 319.808 L103.654 313.928 Z\" fill=\"#000000\" fill-rule=\"evenodd\" fill-opacity=\"1\" /><path clip-path=\"url(#clip650)\" d=\"M 0 0 M123.607 288.326 Q119.996 288.326 118.168 291.891 Q116.362 295.433 116.362 302.562 Q116.362 309.669 118.168 313.234 Q119.996 316.775 123.607 316.775 Q127.242 316.775 129.047 313.234 Q130.876 309.669 130.876 302.562 Q130.876 295.433 129.047 291.891 Q127.242 288.326 123.607 288.326 M123.607 284.623 Q129.418 284.623 132.473 289.229 Q135.552 293.813 135.552 302.562 Q135.552 311.289 132.473 315.896 Q129.418 320.479 123.607 320.479 Q117.797 320.479 114.719 315.896 Q111.663 311.289 111.663 302.562 Q111.663 293.813 114.719 289.229 Q117.797 284.623 123.607 284.623 Z\" fill=\"#000000\" fill-rule=\"evenodd\" fill-opacity=\"1\" /><path clip-path=\"url(#clip652)\" d=\"\n",
       "M291.522 86.1857 L291.522 1384.24 L615.066 1384.24 L615.066 86.1857 L291.522 86.1857 L291.522 86.1857  Z\n",
       "  \" fill=\"#009af9\" fill-rule=\"evenodd\" fill-opacity=\"1\"/>\n",
       "<polyline clip-path=\"url(#clip652)\" style=\"stroke:#000000; stroke-width:4; stroke-opacity:1; fill:none\" points=\"\n",
       "  291.522,86.1857 291.522,1384.24 615.066,1384.24 615.066,86.1857 291.522,86.1857 \n",
       "  \"/>\n",
       "<path clip-path=\"url(#clip652)\" d=\"\n",
       "M615.066 302.528 L615.066 1384.24 L938.61 1384.24 L938.61 302.528 L615.066 302.528 L615.066 302.528  Z\n",
       "  \" fill=\"#009af9\" fill-rule=\"evenodd\" fill-opacity=\"1\"/>\n",
       "<polyline clip-path=\"url(#clip652)\" style=\"stroke:#000000; stroke-width:4; stroke-opacity:1; fill:none\" points=\"\n",
       "  615.066,302.528 615.066,1384.24 938.61,1384.24 938.61,302.528 615.066,302.528 \n",
       "  \"/>\n",
       "<path clip-path=\"url(#clip652)\" d=\"\n",
       "M938.61 1059.73 L938.61 1384.24 L1262.15 1384.24 L1262.15 1059.73 L938.61 1059.73 L938.61 1059.73  Z\n",
       "  \" fill=\"#009af9\" fill-rule=\"evenodd\" fill-opacity=\"1\"/>\n",
       "<polyline clip-path=\"url(#clip652)\" style=\"stroke:#000000; stroke-width:4; stroke-opacity:1; fill:none\" points=\"\n",
       "  938.61,1059.73 938.61,1384.24 1262.15,1384.24 1262.15,1059.73 938.61,1059.73 \n",
       "  \"/>\n",
       "<path clip-path=\"url(#clip652)\" d=\"\n",
       "M1262.15 1384.24 L1262.15 1384.24 L1585.7 1384.24 L1585.7 1384.24 L1262.15 1384.24 L1262.15 1384.24  Z\n",
       "  \" fill=\"#009af9\" fill-rule=\"evenodd\" fill-opacity=\"1\"/>\n",
       "<polyline clip-path=\"url(#clip652)\" style=\"stroke:#000000; stroke-width:4; stroke-opacity:1; fill:none\" points=\"\n",
       "  1262.15,1384.24 1262.15,1384.24 1585.7,1384.24 1262.15,1384.24 \n",
       "  \"/>\n",
       "<path clip-path=\"url(#clip652)\" d=\"\n",
       "M1585.7 1384.24 L1585.7 1384.24 L1909.24 1384.24 L1909.24 1384.24 L1585.7 1384.24 L1585.7 1384.24  Z\n",
       "  \" fill=\"#009af9\" fill-rule=\"evenodd\" fill-opacity=\"1\"/>\n",
       "<polyline clip-path=\"url(#clip652)\" style=\"stroke:#000000; stroke-width:4; stroke-opacity:1; fill:none\" points=\"\n",
       "  1585.7,1384.24 1585.7,1384.24 1909.24,1384.24 1585.7,1384.24 \n",
       "  \"/>\n",
       "<path clip-path=\"url(#clip652)\" d=\"\n",
       "M1909.24 1276.07 L1909.24 1384.24 L2232.79 1384.24 L2232.79 1276.07 L1909.24 1276.07 L1909.24 1276.07  Z\n",
       "  \" fill=\"#009af9\" fill-rule=\"evenodd\" fill-opacity=\"1\"/>\n",
       "<polyline clip-path=\"url(#clip652)\" style=\"stroke:#000000; stroke-width:4; stroke-opacity:1; fill:none\" points=\"\n",
       "  1909.24,1276.07 1909.24,1384.24 2232.79,1384.24 2232.79,1276.07 1909.24,1276.07 \n",
       "  \"/>\n",
       "<path clip-path=\"url(#clip652)\" d=\"\n",
       "M291.522 735.212 L291.522 1384.24 L453.294 1384.24 L453.294 735.212 L291.522 735.212 L291.522 735.212  Z\n",
       "  \" fill=\"#e26f46\" fill-rule=\"evenodd\" fill-opacity=\"1\"/>\n",
       "<polyline clip-path=\"url(#clip652)\" style=\"stroke:#000000; stroke-width:4; stroke-opacity:1; fill:none\" points=\"\n",
       "  291.522,735.212 291.522,1384.24 453.294,1384.24 453.294,735.212 291.522,735.212 \n",
       "  \"/>\n",
       "<path clip-path=\"url(#clip652)\" d=\"\n",
       "M453.294 86.1857 L453.294 1384.24 L615.066 1384.24 L615.066 86.1857 L453.294 86.1857 L453.294 86.1857  Z\n",
       "  \" fill=\"#e26f46\" fill-rule=\"evenodd\" fill-opacity=\"1\"/>\n",
       "<polyline clip-path=\"url(#clip652)\" style=\"stroke:#000000; stroke-width:4; stroke-opacity:1; fill:none\" points=\"\n",
       "  453.294,86.1857 453.294,1384.24 615.066,1384.24 615.066,86.1857 453.294,86.1857 \n",
       "  \"/>\n",
       "<path clip-path=\"url(#clip652)\" d=\"\n",
       "M615.066 1059.73 L615.066 1384.24 L776.838 1384.24 L776.838 1059.73 L615.066 1059.73 L615.066 1059.73  Z\n",
       "  \" fill=\"#e26f46\" fill-rule=\"evenodd\" fill-opacity=\"1\"/>\n",
       "<polyline clip-path=\"url(#clip652)\" style=\"stroke:#000000; stroke-width:4; stroke-opacity:1; fill:none\" points=\"\n",
       "  615.066,1059.73 615.066,1384.24 776.838,1384.24 776.838,1059.73 615.066,1059.73 \n",
       "  \"/>\n",
       "<path clip-path=\"url(#clip652)\" d=\"\n",
       "M776.838 1167.9 L776.838 1384.24 L938.61 1384.24 L938.61 1167.9 L776.838 1167.9 L776.838 1167.9  Z\n",
       "  \" fill=\"#e26f46\" fill-rule=\"evenodd\" fill-opacity=\"1\"/>\n",
       "<polyline clip-path=\"url(#clip652)\" style=\"stroke:#000000; stroke-width:4; stroke-opacity:1; fill:none\" points=\"\n",
       "  776.838,1167.9 776.838,1384.24 938.61,1384.24 938.61,1167.9 776.838,1167.9 \n",
       "  \"/>\n",
       "<path clip-path=\"url(#clip652)\" d=\"\n",
       "M938.61 1384.24 L938.61 1384.24 L1100.38 1384.24 L1100.38 1384.24 L938.61 1384.24 L938.61 1384.24  Z\n",
       "  \" fill=\"#e26f46\" fill-rule=\"evenodd\" fill-opacity=\"1\"/>\n",
       "<polyline clip-path=\"url(#clip652)\" style=\"stroke:#000000; stroke-width:4; stroke-opacity:1; fill:none\" points=\"\n",
       "  938.61,1384.24 938.61,1384.24 1100.38,1384.24 938.61,1384.24 \n",
       "  \"/>\n",
       "<path clip-path=\"url(#clip652)\" d=\"\n",
       "M1100.38 1276.07 L1100.38 1384.24 L1262.15 1384.24 L1262.15 1276.07 L1100.38 1276.07 L1100.38 1276.07  Z\n",
       "  \" fill=\"#e26f46\" fill-rule=\"evenodd\" fill-opacity=\"1\"/>\n",
       "<polyline clip-path=\"url(#clip652)\" style=\"stroke:#000000; stroke-width:4; stroke-opacity:1; fill:none\" points=\"\n",
       "  1100.38,1276.07 1100.38,1384.24 1262.15,1384.24 1262.15,1276.07 1100.38,1276.07 \n",
       "  \"/>\n",
       "<path clip-path=\"url(#clip652)\" d=\"\n",
       "M1262.15 1384.24 L1262.15 1384.24 L1423.93 1384.24 L1423.93 1384.24 L1262.15 1384.24 L1262.15 1384.24  Z\n",
       "  \" fill=\"#e26f46\" fill-rule=\"evenodd\" fill-opacity=\"1\"/>\n",
       "<polyline clip-path=\"url(#clip652)\" style=\"stroke:#000000; stroke-width:4; stroke-opacity:1; fill:none\" points=\"\n",
       "  1262.15,1384.24 1262.15,1384.24 1423.93,1384.24 1262.15,1384.24 \n",
       "  \"/>\n",
       "<path clip-path=\"url(#clip652)\" d=\"\n",
       "M1423.93 1276.07 L1423.93 1384.24 L1585.7 1384.24 L1585.7 1276.07 L1423.93 1276.07 L1423.93 1276.07  Z\n",
       "  \" fill=\"#e26f46\" fill-rule=\"evenodd\" fill-opacity=\"1\"/>\n",
       "<polyline clip-path=\"url(#clip652)\" style=\"stroke:#000000; stroke-width:4; stroke-opacity:1; fill:none\" points=\"\n",
       "  1423.93,1276.07 1423.93,1384.24 1585.7,1384.24 1585.7,1276.07 1423.93,1276.07 \n",
       "  \"/>\n",
       "<path clip-path=\"url(#clip650)\" d=\"\n",
       "M2008.64 274.549 L2280.05 274.549 L2280.05 93.1086 L2008.64 93.1086  Z\n",
       "  \" fill=\"#ffffff\" fill-rule=\"evenodd\" fill-opacity=\"1\"/>\n",
       "<polyline clip-path=\"url(#clip650)\" style=\"stroke:#000000; stroke-width:4; stroke-opacity:1; fill:none\" points=\"\n",
       "  2008.64,274.549 2280.05,274.549 2280.05,93.1086 2008.64,93.1086 2008.64,274.549 \n",
       "  \"/>\n",
       "<path clip-path=\"url(#clip650)\" d=\"\n",
       "M2032.88 177.781 L2178.29 177.781 L2178.29 129.397 L2032.88 129.397 L2032.88 177.781  Z\n",
       "  \" fill=\"#009af9\" fill-rule=\"evenodd\" fill-opacity=\"1\"/>\n",
       "<polyline clip-path=\"url(#clip650)\" style=\"stroke:#000000; stroke-width:4; stroke-opacity:1; fill:none\" points=\"\n",
       "  2032.88,177.781 2178.29,177.781 2178.29,129.397 2032.88,129.397 2032.88,177.781 \n",
       "  \"/>\n",
       "<path clip-path=\"url(#clip650)\" d=\"M 0 0 M2207.2 140.151 L2207.2 167.026 L2212.85 167.026 Q2220 167.026 2223.31 163.785 Q2226.65 160.545 2226.65 153.554 Q2226.65 146.609 2223.31 143.392 Q2220 140.151 2212.85 140.151 L2207.2 140.151 M2202.53 136.309 L2212.13 136.309 Q2222.18 136.309 2226.88 140.498 Q2231.58 144.665 2231.58 153.554 Q2231.58 162.489 2226.86 166.679 Q2222.13 170.869 2212.13 170.869 L2202.53 170.869 L2202.53 136.309 Z\" fill=\"#000000\" fill-rule=\"evenodd\" fill-opacity=\"1\" /><path clip-path=\"url(#clip650)\" d=\"\n",
       "M2032.88 238.261 L2178.29 238.261 L2178.29 189.877 L2032.88 189.877 L2032.88 238.261  Z\n",
       "  \" fill=\"#e26f46\" fill-rule=\"evenodd\" fill-opacity=\"1\"/>\n",
       "<polyline clip-path=\"url(#clip650)\" style=\"stroke:#000000; stroke-width:4; stroke-opacity:1; fill:none\" points=\"\n",
       "  2032.88,238.261 2178.29,238.261 2178.29,189.877 2032.88,189.877 2032.88,238.261 \n",
       "  \"/>\n",
       "<path clip-path=\"url(#clip650)\" d=\"M 0 0 M2218.92 215.145 Q2220.42 215.654 2221.83 217.321 Q2223.27 218.988 2224.7 221.904 L2229.45 231.349 L2224.43 231.349 L2220 222.483 Q2218.29 219.011 2216.67 217.876 Q2215.07 216.742 2212.3 216.742 L2207.2 216.742 L2207.2 231.349 L2202.53 231.349 L2202.53 196.789 L2213.08 196.789 Q2219.01 196.789 2221.93 199.265 Q2224.84 201.742 2224.84 206.742 Q2224.84 210.006 2223.31 212.159 Q2221.81 214.312 2218.92 215.145 M2207.2 200.631 L2207.2 212.9 L2213.08 212.9 Q2216.46 212.9 2218.18 211.349 Q2219.91 209.775 2219.91 206.742 Q2219.91 203.71 2218.18 202.182 Q2216.46 200.631 2213.08 200.631 L2207.2 200.631 Z\" fill=\"#000000\" fill-rule=\"evenodd\" fill-opacity=\"1\" /></svg>\n"
      ]
     },
     "execution_count": 116,
     "metadata": {},
     "output_type": "execute_result"
    }
   ],
   "source": [
    "@df df histogram(:electoral_votes, group=:state_winner, label=[\"D\" \"R\"])\n",
    "xlabel!(\"Prices in June 2019\")"
   ]
  },
  {
   "cell_type": "code",
   "execution_count": null,
   "metadata": {},
   "outputs": [],
   "source": []
  }
 ],
 "metadata": {
  "kernelspec": {
   "display_name": "Julia 1.5.1",
   "language": "julia",
   "name": "julia-1.5"
  },
  "language_info": {
   "file_extension": ".jl",
   "mimetype": "application/julia",
   "name": "julia",
   "version": "1.5.1"
  }
 },
 "nbformat": 4,
 "nbformat_minor": 4
}
